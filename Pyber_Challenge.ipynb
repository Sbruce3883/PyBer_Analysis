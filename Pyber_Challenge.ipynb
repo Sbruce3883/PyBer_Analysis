{
 "cells": [
  {
   "cell_type": "code",
   "execution_count": null,
   "id": "914e6ede",
   "metadata": {},
   "outputs": [],
   "source": [
    "# Add Matplotlib inline magic command\n",
    "%matplotlib inline\n",
    "# Dependencies and Setup\n",
    "import matplotlib.pyplot as plt\n",
    "import pandas as pd\n",
    "\n",
    "# File to Load (Remember to change these)\n",
    "city_data_to_load = \"city_data.csv\"\n",
    "ride_data_to_load = \"ride_data.csv\"\n",
    "\n",
    "# Read the City and Ride Data\n",
    "city_data_df = pd.read_csv(city_data_to_load)\n",
    "ride_data_df = pd.read_csv(ride_data_to_load)"
   ]
  },
  {
   "cell_type": "code",
   "execution_count": null,
   "id": "8da32aef",
   "metadata": {},
   "outputs": [],
   "source": [
    "# Combine the data into a single dataset\n",
    "pyber_data_df = pd.merge(ride_data_df, city_data_df, how=\"left\", on=[\"city\", \"city\"])\n",
    "\n",
    "# Display the data table for preview\n",
    "pyber_data_df.head()"
   ]
  },
  {
   "cell_type": "code",
   "execution_count": null,
   "id": "7de3d8ee",
   "metadata": {},
   "outputs": [],
   "source": [
    "#  1. Get the total rides for each city type"
   ]
  },
  {
   "cell_type": "code",
   "execution_count": null,
   "id": "29c71785",
   "metadata": {},
   "outputs": [],
   "source": [
    "# 2. Get the total drivers for each city type"
   ]
  },
  {
   "cell_type": "code",
   "execution_count": null,
   "id": "0cf6b8eb",
   "metadata": {},
   "outputs": [],
   "source": [
    "#  3. Get the total amount of fares for each city type"
   ]
  },
  {
   "cell_type": "code",
   "execution_count": null,
   "id": "3b291903",
   "metadata": {},
   "outputs": [],
   "source": [
    "#  4. Get the average fare per ride for each city type. "
   ]
  },
  {
   "cell_type": "code",
   "execution_count": null,
   "id": "6cd6fd83",
   "metadata": {},
   "outputs": [],
   "source": [
    "# 5. Get the average fare per driver for each city type."
   ]
  },
  {
   "cell_type": "code",
   "execution_count": null,
   "id": "a04d2b20",
   "metadata": {},
   "outputs": [],
   "source": [
    "#  6. Create a PyBer summary DataFrame."
   ]
  },
  {
   "cell_type": "code",
   "execution_count": null,
   "id": "5b2c441f",
   "metadata": {},
   "outputs": [],
   "source": [
    "#  7. Cleaning up the DataFrame. Delete the index name\n",
    "pyber_summary_df.index.name = None"
   ]
  },
  {
   "cell_type": "code",
   "execution_count": null,
   "id": "7e2454a0",
   "metadata": {},
   "outputs": [],
   "source": [
    "#  8. Format the columns."
   ]
  },
  {
   "cell_type": "code",
   "execution_count": null,
   "id": "996b325e",
   "metadata": {},
   "outputs": [],
   "source": [
    "# 1. Read the merged DataFrame"
   ]
  },
  {
   "cell_type": "code",
   "execution_count": null,
   "id": "6e11550e",
   "metadata": {},
   "outputs": [],
   "source": [
    "# 2. Using groupby() to create a new DataFrame showing the sum of the fares \n",
    "#  for each date where the indices are the city type and date."
   ]
  },
  {
   "cell_type": "code",
   "execution_count": null,
   "id": "644bb8a6",
   "metadata": {},
   "outputs": [],
   "source": [
    "# 3. Reset the index on the DataFrame you created in #1. This is needed to use the 'pivot()' function.\n",
    "# df = df.reset_index()"
   ]
  },
  {
   "cell_type": "code",
   "execution_count": null,
   "id": "17879338",
   "metadata": {},
   "outputs": [],
   "source": [
    "# 4. Create a pivot table with the 'date' as the index, the columns ='type', and values='fare' \n",
    "# to get the total fares for each type of city by the date. "
   ]
  },
  {
   "cell_type": "code",
   "execution_count": null,
   "id": "e59fc289",
   "metadata": {},
   "outputs": [],
   "source": [
    "# 5. Create a new DataFrame from the pivot table DataFrame using loc on the given dates, '2019-01-01':'2019-04-29'."
   ]
  },
  {
   "cell_type": "code",
   "execution_count": null,
   "id": "55769b65",
   "metadata": {},
   "outputs": [],
   "source": [
    "# 6. Set the \"date\" index to datetime datatype. This is necessary to use the resample() method in Step 8.\n",
    "# df.index = pd.to_datetime(df.index)"
   ]
  },
  {
   "cell_type": "code",
   "execution_count": null,
   "id": "39f36c54",
   "metadata": {},
   "outputs": [],
   "source": [
    "# 7. Check that the datatype for the index is datetime using df.info()"
   ]
  },
  {
   "cell_type": "code",
   "execution_count": null,
   "id": "bd8f74cb",
   "metadata": {},
   "outputs": [],
   "source": [
    "# 8. Create a new DataFrame using the \"resample()\" function by week 'W' and get the sum of the fares for each week."
   ]
  },
  {
   "cell_type": "code",
   "execution_count": null,
   "id": "ee64464a",
   "metadata": {},
   "outputs": [],
   "source": [
    "# 8. Using the object-oriented interface method, plot the resample DataFrame using the df.plot() function. \n",
    "\n",
    "# Import the style from Matplotlib.\n",
    "from matplotlib import style\n",
    "# Use the graph style fivethirtyeight.\n",
    "style.use('fivethirtyeight')"
   ]
  },
  {
   "cell_type": "code",
   "execution_count": null,
   "id": "9911b44b",
   "metadata": {},
   "outputs": [],
   "source": []
  },
  {
   "cell_type": "code",
   "execution_count": null,
   "id": "a9731b35",
   "metadata": {},
   "outputs": [],
   "source": []
  },
  {
   "cell_type": "code",
   "execution_count": null,
   "id": "bd909382",
   "metadata": {},
   "outputs": [],
   "source": []
  },
  {
   "cell_type": "code",
   "execution_count": null,
   "id": "af4a067c",
   "metadata": {},
   "outputs": [],
   "source": []
  }
 ],
 "metadata": {
  "kernelspec": {
   "display_name": "PythonData",
   "language": "python",
   "name": "pythondata"
  },
  "language_info": {
   "codemirror_mode": {
    "name": "ipython",
    "version": 3
   },
   "file_extension": ".py",
   "mimetype": "text/x-python",
   "name": "python",
   "nbconvert_exporter": "python",
   "pygments_lexer": "ipython3",
   "version": "3.7.11"
  }
 },
 "nbformat": 4,
 "nbformat_minor": 5
}
